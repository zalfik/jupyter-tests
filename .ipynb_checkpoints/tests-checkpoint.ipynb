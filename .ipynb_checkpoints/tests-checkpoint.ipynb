{
 "cells": [
  {
   "cell_type": "markdown",
   "id": "166d3c68-d648-46f5-82e8-c3e9ae8e26d0",
   "metadata": {
    "tags": []
   },
   "source": [
    "# Jupiter tests"
   ]
  },
  {
   "cell_type": "code",
   "execution_count": 1,
   "id": "b16c6b3c-0d35-4136-a940-b0e4cc7a9439",
   "metadata": {},
   "outputs": [
    {
     "name": "stdout",
     "output_type": "stream",
     "text": [
      "Hello\n",
      "Hello2\n"
     ]
    }
   ],
   "source": [
    "print('Hello')\n",
    "print('Hello2')"
   ]
  },
  {
   "cell_type": "code",
   "execution_count": 1,
   "id": "7059c821-3b32-458e-bf02-d0fdd78ba323",
   "metadata": {},
   "outputs": [],
   "source": [
    "import pandas as pd\n",
    "import numpy as np"
   ]
  },
  {
   "cell_type": "code",
   "execution_count": 4,
   "id": "9b67d65b-93c2-4286-89eb-fd9f7c089b7f",
   "metadata": {},
   "outputs": [
    {
     "name": "stdout",
     "output_type": "stream",
     "text": [
      "[[1 2]\n",
      " [3 4]]\n"
     ]
    }
   ],
   "source": [
    "new_array = np.array([[1, 2], [3, 4]])\n",
    "print(new_array)"
   ]
  },
  {
   "cell_type": "code",
   "execution_count": null,
   "id": "097ec62b-47f1-480a-962f-54fd2a55d440",
   "metadata": {},
   "outputs": [],
   "source": []
  }
 ],
 "metadata": {
  "kernelspec": {
   "display_name": "Python 3 (ipykernel)",
   "language": "python",
   "name": "python3"
  },
  "language_info": {
   "codemirror_mode": {
    "name": "ipython",
    "version": 3
   },
   "file_extension": ".py",
   "mimetype": "text/x-python",
   "name": "python",
   "nbconvert_exporter": "python",
   "pygments_lexer": "ipython3",
   "version": "3.9.7"
  }
 },
 "nbformat": 4,
 "nbformat_minor": 5
}
