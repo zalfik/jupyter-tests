{
 "cells": [
  {
   "cell_type": "markdown",
   "id": "ca2eb413-67ef-465b-8bfd-9049826432ac",
   "metadata": {
    "tags": []
   },
   "source": [
    "# Jupiter tests"
   ]
  },
  {
   "cell_type": "code",
   "execution_count": 1,
   "id": "b16c6b3c-0d35-4136-a940-b0e4cc7a9439",
   "metadata": {},
   "outputs": [
    {
     "name": "stdout",
     "output_type": "stream",
     "text": [
      "Hello\n"
     ]
    }
   ],
   "source": [
    "print('Hello')\n",
    "print('Hello2')"
   ]
  },
  {
   "cell_type": "code",
   "execution_count": null,
   "id": "41ce5dad-7694-4eec-bf68-9da90d46bc65",
   "metadata": {},
   "outputs": [],
   "source": []
  }
 ],
 "metadata": {
  "kernelspec": {
   "display_name": "Python 3 (ipykernel)",
   "language": "python",
   "name": "python3"
  },
  "language_info": {
   "codemirror_mode": {
    "name": "ipython",
    "version": 3
   },
   "file_extension": ".py",
   "mimetype": "text/x-python",
   "name": "python",
   "nbconvert_exporter": "python",
   "pygments_lexer": "ipython3",
   "version": "3.10.3"
  }
 },
 "nbformat": 4,
 "nbformat_minor": 5
}
